{
 "cells": [
  {
   "cell_type": "code",
   "execution_count": 49,
   "metadata": {
    "collapsed": true
   },
   "outputs": [],
   "source": [
    "%matplotlib inline\n",
    "import cv2 as cv\n",
    "import numpy as np\n",
    "from matplotlib import pyplot as plt\n",
    "import math"
   ]
  },
  {
   "cell_type": "code",
   "execution_count": 2,
   "metadata": {
    "collapsed": true
   },
   "outputs": [],
   "source": [
    "#Function that \n",
    "def imshow(img):\n",
    "    h, w = np.shape(img)\n",
    "    np_rgb = np.zeros((h, w, 3))\n",
    "    np_rgb[:,:,0] = img[:,:]\n",
    "    np_rgb[:,:,1] = img[:,:]\n",
    "    np_rgb[:,:,2] = img[:,:]\n",
    "    plt.imshow(np_rgb)\n",
    "    plt.show()"
   ]
  },
  {
   "cell_type": "code",
   "execution_count": 67,
   "metadata": {
    "collapsed": true
   },
   "outputs": [],
   "source": [
    "def draw_line(img, p1, p2):\n",
    "    imgCols, imgRows = np.shape(img)\n",
    "    x1 = p1[0]\n",
    "    y1 = p1[1]\n",
    "    \n",
    "    x2 = p2[0]\n",
    "    y2 = p2[1]\n",
    "    \n",
    "    Dy = (y2 - y1)\n",
    "    try:\n",
    "        Dx = (x2 - x1)\n",
    "        m = Dy / Dx\n",
    "        for x in range(x1, x2):\n",
    "            y = round(m*x + y1)\n",
    "            img[y, x] = 0\n",
    "    except(ZeroDivisionError):\n",
    "        Dx = 0\n",
    "        img[y1:y2, x1] = 0 \n",
    "    r = math.sqrt(math.pow(Dx, 2) + math.pow(Dy, 2))\n",
    "    return img, Dx, Dy, r"
   ]
  },
  {
   "cell_type": "code",
   "execution_count": 76,
   "metadata": {
    "collapsed": true
   },
   "outputs": [],
   "source": [
    "def refract_line(img, in_line_p1, in_line_p2, n1, n2):\n",
    "    image, Dx, Dy, r = draw_line(img, in_line_p1, in_line_p2)\n",
    "    theta = math.asin((n1*Dy)/(n2*r))\n",
    "    r2 = 20\n",
    "    \n",
    "    Dx2 = r2*math.cos(theta)\n",
    "    Dy2 = r2*math.sin(theta)\n",
    "    \n",
    "    px = in_line_p2[0] + round(Dx2)\n",
    "    py = in_line_p2[1] + round(Dy2)\n",
    "    return draw_line(image, in_line_p2, [px, py])"
   ]
  },
  {
   "cell_type": "code",
   "execution_count": 77,
   "metadata": {
    "collapsed": true
   },
   "outputs": [],
   "source": [
    "def refraction(incident_lines):\n",
    "    image = np.ones((200, 300)) \n",
    "    line_p1 = [130, 10]\n",
    "    line_p2 = [130, 190]\n",
    "    start_point = [0, 125]\n",
    "    lim1 = 25\n",
    "    lim2 = 150\n",
    "    image, Dx, Dy, r = draw_line(image, line_p1, line_p2)\n",
    "    \n",
    "    points = [lim1]\n",
    "    for i in range(2, incident_lines):\n",
    "        p = round(lim1 + ((lim2 - lim1) / incident_lines) *(i-1))\n",
    "        points.append(p)\n",
    "    points.append(lim2)\n",
    "    for point in points:\n",
    "        image, Dx, Dy, r = refract_line(image, start_point, [line_p1[0], point], 1, 0.75)\n",
    "        \n",
    "    print('Points: {}'.format(points))\n",
    "    imshow(image)"
   ]
  },
  {
   "cell_type": "code",
   "execution_count": 78,
   "metadata": {},
   "outputs": [
    {
     "name": "stdout",
     "output_type": "stream",
     "text": [
      "Points: [25, 67, 150]\n"
     ]
    },
    {
     "data": {
      "image/png": "[encoded data removed]",
      "text/plain": [
       "<matplotlib.figure.Figure at 0x287edcb9860>"
      ]
     },
     "metadata": {},
     "output_type": "display_data"
    }
   ],
   "source": [
    "refraction(3)"
   ]
  },
  {
   "cell_type": "code",
   "execution_count": 79,
   "metadata": {},
   "outputs": [
    {
     "name": "stdout",
     "output_type": "stream",
     "text": [
      "Points: [25, 50, 75, 100, 150]\n"
     ]
    },
    {
     "data": {
      "image/png": "[encoded data removed]",
      "text/plain": [
       "<matplotlib.figure.Figure at 0x287eb473550>"
      ]
     },
     "metadata": {},
     "output_type": "display_data"
    }
   ],
   "source": [
    "refraction(5)"
   ]
  },
  {
   "cell_type": "code",
   "execution_count": null,
   "metadata": {
    "collapsed": true
   },
   "outputs": [],
   "source": []
  }
 ],
 "metadata": {
  "kernelspec": {
   "display_name": "Python 3",
   "language": "python",
   "name": "python3"
  },
  "language_info": {
   "codemirror_mode": {
    "name": "ipython",
    "version": 3
   },
   "file_extension": ".py",
   "mimetype": "text/x-python",
   "name": "python",
   "nbconvert_exporter": "python",
   "pygments_lexer": "ipython3",
   "version": "3.6.3"
  }
 },
 "nbformat": 4,
 "nbformat_minor": 2
}
