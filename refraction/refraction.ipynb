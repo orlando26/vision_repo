{
 "cells": [
  {
   "cell_type": "code",
   "execution_count": 1,
   "metadata": {
    "collapsed": true
   },
   "outputs": [],
   "source": [
    "%matplotlib inline\n",
    "import cv2 as cv\n",
    "import numpy as np\n",
    "from matplotlib import pyplot as plt"
   ]
  },
  {
   "cell_type": "code",
   "execution_count": 2,
   "metadata": {
    "collapsed": true
   },
   "outputs": [],
   "source": [
    "#Function that \n",
    "def imshow(img):\n",
    "    h, w = np.shape(img)\n",
    "    np_rgb = np.zeros((h, w, 3))\n",
    "    np_rgb[:,:,0] = img[:,:]\n",
    "    np_rgb[:,:,1] = img[:,:]\n",
    "    np_rgb[:,:,2] = img[:,:]\n",
    "    plt.imshow(np_rgb)\n",
    "    plt.show()"
   ]
  },
  {
   "cell_type": "code",
   "execution_count": 3,
   "metadata": {
    "collapsed": true
   },
   "outputs": [],
   "source": [
    "def draw_line(img, p1, p2):\n",
    "    imgCols, imgRows = np.shape(img)\n",
    "    x1 = p1[0]\n",
    "    y1 = p1[1]\n",
    "    \n",
    "    x2 = p2[0]\n",
    "    y2 = p2[1]\n",
    "    \n",
    "    try:\n",
    "        m = (y2 - y1) / (x2 - x1)\n",
    "        for x in range(x1, x2):\n",
    "            y = round(m*x + y1)\n",
    "            img[y, x] = 0\n",
    "    except(ZeroDivisionError):\n",
    "        img[y1:y2, x1] = 0 \n",
    "        \n",
    "    return img"
   ]
  },
  {
   "cell_type": "code",
   "execution_count": 4,
   "metadata": {
    "collapsed": true
   },
   "outputs": [],
   "source": [
    "def refraction(incident_lines):\n",
    "    image = np.ones((200, 300)) \n",
    "    line_p1 = [150, 25]\n",
    "    line_p2 = [150, 175]\n",
    "    start_point = [0, 100]\n",
    "    lim1 = 50\n",
    "    lim2 = 150\n",
    "    image = draw_line(image, line_p1, line_p2)\n",
    "    \n",
    "    points = [lim1]\n",
    "    for i in range(2, incident_lines):\n",
    "        p = round(lim1 + ((lim2 - lim1) / incident_lines) *(i-1))\n",
    "        points.append(p)\n",
    "    points.append(lim2)\n",
    "    for p in points:\n",
    "        image = draw_line(image, start_point, [line_p1[0], p])\n",
    "    print('Points: {}'.format(points))\n",
    "    imshow(image)"
   ]
  },
  {
   "cell_type": "code",
   "execution_count": 5,
   "metadata": {},
   "outputs": [
    {
     "name": "stdout",
     "output_type": "stream",
     "text": [
      "Points: [50, 70, 90, 110, 150]\n"
     ]
    },
    {
     "data": {
      "image/png": "[encoded data removed]",
      "text/plain": [
       "<matplotlib.figure.Figure at 0x287eb43e8d0>"
      ]
     },
     "metadata": {},
     "output_type": "display_data"
    }
   ],
   "source": [
    "refraction(5)"
   ]
  },
  {
   "cell_type": "code",
   "execution_count": 6,
   "metadata": {},
   "outputs": [
    {
     "name": "stdout",
     "output_type": "stream",
     "text": [
      "Points: [50, 64, 79, 93, 107, 121, 150]\n"
     ]
    },
    {
     "data": {
      "image/png": "[encoded data removed]",
      "text/plain": [
       "<matplotlib.figure.Figure at 0x287eb43f518>"
      ]
     },
     "metadata": {},
     "output_type": "display_data"
    }
   ],
   "source": [
    "refraction(7)"
   ]
  },
  {
   "cell_type": "code",
   "execution_count": null,
   "metadata": {
    "collapsed": true
   },
   "outputs": [],
   "source": []
  }
 ],
 "metadata": {
  "kernelspec": {
   "display_name": "Python 3",
   "language": "python",
   "name": "python3"
  },
  "language_info": {
   "codemirror_mode": {
    "name": "ipython",
    "version": 3
   },
   "file_extension": ".py",
   "mimetype": "text/x-python",
   "name": "python",
   "nbconvert_exporter": "python",
   "pygments_lexer": "ipython3",
   "version": "3.6.3"
  }
 },
 "nbformat": 4,
 "nbformat_minor": 2
}
